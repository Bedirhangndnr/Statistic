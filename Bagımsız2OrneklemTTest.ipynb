{
 "cells": [
  {
   "cell_type": "markdown",
   "metadata": {},
   "source": [
    "Bağımsız örneklem t testi: \"Bağımsız iki grupun ortalamaları arasında anlamlı bir fark var mı?\"\n",
    "    Sorusuna yanıt verir"
   ]
  },
  {
   "cell_type": "code",
   "execution_count": 2,
   "metadata": {},
   "outputs": [
    {
     "data": {
      "text/html": [
       "<div>\n",
       "<style scoped>\n",
       "    .dataframe tbody tr th:only-of-type {\n",
       "        vertical-align: middle;\n",
       "    }\n",
       "\n",
       "    .dataframe tbody tr th {\n",
       "        vertical-align: top;\n",
       "    }\n",
       "\n",
       "    .dataframe thead th {\n",
       "        text-align: right;\n",
       "    }\n",
       "</style>\n",
       "<table border=\"1\" class=\"dataframe\">\n",
       "  <thead>\n",
       "    <tr style=\"text-align: right;\">\n",
       "      <th></th>\n",
       "      <th>Unnamed: 0</th>\n",
       "      <th>rank</th>\n",
       "      <th>discipline</th>\n",
       "      <th>yrs.since.phd</th>\n",
       "      <th>yrs.service</th>\n",
       "      <th>sex</th>\n",
       "      <th>salary</th>\n",
       "    </tr>\n",
       "  </thead>\n",
       "  <tbody>\n",
       "    <tr>\n",
       "      <th>0</th>\n",
       "      <td>1</td>\n",
       "      <td>Prof</td>\n",
       "      <td>B</td>\n",
       "      <td>19</td>\n",
       "      <td>18</td>\n",
       "      <td>Male</td>\n",
       "      <td>139750</td>\n",
       "    </tr>\n",
       "    <tr>\n",
       "      <th>1</th>\n",
       "      <td>2</td>\n",
       "      <td>Prof</td>\n",
       "      <td>B</td>\n",
       "      <td>20</td>\n",
       "      <td>16</td>\n",
       "      <td>Male</td>\n",
       "      <td>173200</td>\n",
       "    </tr>\n",
       "    <tr>\n",
       "      <th>2</th>\n",
       "      <td>3</td>\n",
       "      <td>AsstProf</td>\n",
       "      <td>B</td>\n",
       "      <td>4</td>\n",
       "      <td>3</td>\n",
       "      <td>Male</td>\n",
       "      <td>79750</td>\n",
       "    </tr>\n",
       "  </tbody>\n",
       "</table>\n",
       "</div>"
      ],
      "text/plain": [
       "   Unnamed: 0      rank discipline  yrs.since.phd  yrs.service   sex  salary\n",
       "0           1      Prof          B             19           18  Male  139750\n",
       "1           2      Prof          B             20           16  Male  173200\n",
       "2           3  AsstProf          B              4            3  Male   79750"
      ]
     },
     "execution_count": 2,
     "metadata": {},
     "output_type": "execute_result"
    }
   ],
   "source": [
    "import pandas as pd\n",
    "df = pd.read_csv(\"ProfSalaries.csv\")\n",
    "df.head(3)"
   ]
  },
  {
   "cell_type": "code",
   "execution_count": 6,
   "metadata": {},
   "outputs": [],
   "source": [
    "#Unnamed: 0' dan kurtulalım.\n",
    "df.drop(columns='Unnamed: 0', inplace=True);"
   ]
  },
  {
   "cell_type": "code",
   "execution_count": 7,
   "metadata": {},
   "outputs": [
    {
     "name": "stdout",
     "output_type": "stream",
     "text": [
      "<class 'pandas.core.frame.DataFrame'>\n",
      "RangeIndex: 397 entries, 0 to 396\n",
      "Data columns (total 6 columns):\n",
      " #   Column         Non-Null Count  Dtype \n",
      "---  ------         --------------  ----- \n",
      " 0   rank           397 non-null    object\n",
      " 1   discipline     397 non-null    object\n",
      " 2   yrs.since.phd  397 non-null    int64 \n",
      " 3   yrs.service    397 non-null    int64 \n",
      " 4   sex            397 non-null    object\n",
      " 5   salary         397 non-null    int64 \n",
      "dtypes: int64(3), object(3)\n",
      "memory usage: 18.7+ KB\n"
     ]
    }
   ],
   "source": [
    "df.info() #veriye bir bakış;"
   ]
  },
  {
   "cell_type": "code",
   "execution_count": 8,
   "metadata": {},
   "outputs": [
    {
     "data": {
      "text/plain": [
       "rank             0\n",
       "discipline       0\n",
       "yrs.since.phd    0\n",
       "yrs.service      0\n",
       "sex              0\n",
       "salary           0\n",
       "dtype: int64"
      ]
     },
     "execution_count": 8,
     "metadata": {},
     "output_type": "execute_result"
    }
   ],
   "source": [
    "df.isnull().sum() #eksik değerler var mı diye bir bakış;"
   ]
  },
  {
   "cell_type": "code",
   "execution_count": 9,
   "metadata": {},
   "outputs": [],
   "source": [
    "#Şimdi, bu içerikte anlamaya çalıtığımız şey Dummy Variables olduğundan, olabildiğince basite indirgemek için kategorik değişkenler olan sex, rank ve discipline dışındaki değişkenleri sileceğim;\n",
    "df.drop([\"yrs.since.phd\",\"yrs.service\"],axis=\"columns\",inplace=True)"
   ]
  },
  {
   "cell_type": "code",
   "execution_count": 10,
   "metadata": {},
   "outputs": [
    {
     "data": {
      "text/html": [
       "<div>\n",
       "<style scoped>\n",
       "    .dataframe tbody tr th:only-of-type {\n",
       "        vertical-align: middle;\n",
       "    }\n",
       "\n",
       "    .dataframe tbody tr th {\n",
       "        vertical-align: top;\n",
       "    }\n",
       "\n",
       "    .dataframe thead th {\n",
       "        text-align: right;\n",
       "    }\n",
       "</style>\n",
       "<table border=\"1\" class=\"dataframe\">\n",
       "  <thead>\n",
       "    <tr style=\"text-align: right;\">\n",
       "      <th></th>\n",
       "      <th>rank</th>\n",
       "      <th>discipline</th>\n",
       "      <th>sex</th>\n",
       "    </tr>\n",
       "  </thead>\n",
       "  <tbody>\n",
       "    <tr>\n",
       "      <th>0</th>\n",
       "      <td>Prof</td>\n",
       "      <td>B</td>\n",
       "      <td>Male</td>\n",
       "    </tr>\n",
       "    <tr>\n",
       "      <th>1</th>\n",
       "      <td>Prof</td>\n",
       "      <td>B</td>\n",
       "      <td>Male</td>\n",
       "    </tr>\n",
       "    <tr>\n",
       "      <th>2</th>\n",
       "      <td>AsstProf</td>\n",
       "      <td>B</td>\n",
       "      <td>Male</td>\n",
       "    </tr>\n",
       "  </tbody>\n",
       "</table>\n",
       "</div>"
      ],
      "text/plain": [
       "       rank discipline   sex\n",
       "0      Prof          B  Male\n",
       "1      Prof          B  Male\n",
       "2  AsstProf          B  Male"
      ]
     },
     "execution_count": 10,
     "metadata": {},
     "output_type": "execute_result"
    }
   ],
   "source": [
    "y=df[\"salary\"]\n",
    "X=df.drop([\"salary\"],axis=\"columns\")\n",
    "X.head(3)"
   ]
  },
  {
   "cell_type": "code",
   "execution_count": 11,
   "metadata": {},
   "outputs": [
    {
     "data": {
      "text/plain": [
       "<seaborn.axisgrid.FacetGrid at 0x200ec554a88>"
      ]
     },
     "execution_count": 11,
     "metadata": {},
     "output_type": "execute_result"
    },
    {
     "data": {
      "image/png": "[encoded data removed]",
      "text/plain": [
       "<Figure size 775.375x360 with 2 Axes>"
      ]
     },
     "metadata": {
      "needs_background": "light"
     },
     "output_type": "display_data"
    }
   ],
   "source": [
    "\n",
    "import seaborn as sns \n",
    "sns.catplot(data=df, y=\"salary\", x=\"rank\", hue=\"discipline\", col=\"sex\")"
   ]
  },
  {
   "cell_type": "markdown",
   "metadata": {},
   "source": [
    "Örneğin bu grafiklere bakarak disciplin-A ve disciplin-B kategorilerinin kazançları arasında\n",
    "discipline-B lehine anlamlı bir fark olabileceğini düşünebiliriz. Çünkü mavi noktalar üstte daha çok yoğunlaşmış gibi duruyor.\n",
    "-Rank(rütbele) ya da sex(cinsiyet) kategorik değiskenleri ve kazanç arasında da ilişki olabilir. Ama ben burada A ve B disiplinleri ile Salary(kazanç) arasında anlamlı bir fark var mı ona bakmak istiyorum. "
   ]
  },
  {
   "cell_type": "code",
   "execution_count": 15,
   "metadata": {},
   "outputs": [
    {
     "data": {
      "text/plain": [
       "<seaborn.axisgrid.FacetGrid at 0x200eec06e88>"
      ]
     },
     "execution_count": 15,
     "metadata": {},
     "output_type": "execute_result"
    },
    {
     "data": {
      "image/png": "[encoded data removed]",
      "text/plain": [
       "<Figure size 360x360 with 1 Axes>"
      ]
     },
     "metadata": {
      "needs_background": "light"
     },
     "output_type": "display_data"
    }
   ],
   "source": [
    "# Catplot ve boxplot grafiklerine de bir bakalım;\n",
    "sns.catplot(data=df, x=\"discipline\", y=\"salary\")"
   ]
  },
  {
   "cell_type": "code",
   "execution_count": null,
   "metadata": {},
   "outputs": [],
   "source": [
    "# Catplot grafiğine bakarak kazançlar arasında fark olup olmadığını alamak zor görünüyor."
   ]
  },
  {
   "cell_type": "code",
   "execution_count": 20,
   "metadata": {},
   "outputs": [
    {
     "data": {
      "image/png": "[encoded data removed]",
      "text/plain": [
       "<Figure size 432x288 with 1 Axes>"
      ]
     },
     "metadata": {
      "needs_background": "light"
     },
     "output_type": "display_data"
    }
   ],
   "source": [
    "sns.boxplot(x = \"discipline\", y = \"salary\", data = df);"
   ]
  },
  {
   "cell_type": "code",
   "execution_count": 18,
   "metadata": {},
   "outputs": [],
   "source": [
    "#Boxplot grafiğinde ise salary-b nin yaklaşık 95-135 arası, salary-A'nın 80-120 arası kazandığını görüyoruz."
   ]
  },
  {
   "cell_type": "markdown",
   "metadata": {},
   "source": [
    "Şimdi, Bağımsız 2 örneklem t testimizi yapabiliriz. \n",
    "Ama bundan önce, bağımsız 2 örneklem t testimizin 2 varsayımı vardır. Normallik ve **normal dağılım** varsayımı ve **varyansların homojenliği** varsayımları. \n",
    "\n",
    "Eğer bu her iki varsayım da dağlanırsa parametrik hipotez testi, iki varsayımdan biri bile sağlanmazsa nan-parametrik hipotez testi yapılır.\n",
    "\n",
    "**1-) Normallik Varsayımı**\n",
    "\n",
    "**H0:**\n",
    "Verilerin dağılımı ile normal dağılım arasında farklılık yoktur. Yani verimiz normal dağılıma sahiptir\n",
    "\n",
    "**H1:** \n",
    "Verilerin dağılımı ile normal dağılım arasında farklılık vardır.Yani verimiz normal dağılıma sahip değildir.\n",
    "    p-value 0.05' den küçük ise H0 hipotezi reddedilir. Değil ise reddedilir.\n",
    "\n",
    "    \n"
   ]
  },
  {
   "cell_type": "code",
   "execution_count": 3,
   "metadata": {},
   "outputs": [
    {
     "data": {
      "image/png": "[encoded data removed]",
      "text/plain": [
       "<Figure size 432x288 with 1 Axes>"
      ]
     },
     "metadata": {
      "needs_background": "light"
     },
     "output_type": "display_data"
    }
   ],
   "source": [
    "# Grafiğe bir göz atarak normallik adına çıkarımda bulunabiliriz.\n",
    "pd.DataFrame(df[df.discipline==\"A\"].salary).plot.hist();"
   ]
  },
  {
   "cell_type": "code",
   "execution_count": 4,
   "metadata": {},
   "outputs": [
    {
     "data": {
      "image/png": "[encoded data removed]",
      "text/plain": [
       "<Figure size 432x288 with 1 Axes>"
      ]
     },
     "metadata": {
      "needs_background": "light"
     },
     "output_type": "display_data"
    }
   ],
   "source": [
    "pd.DataFrame(df[df.discipline==\"B\"].salary).plot.hist();"
   ]
  },
  {
   "cell_type": "markdown",
   "metadata": {},
   "source": [
    "#### Normal dağılmıyor gibi görünüyor, Shapiro-Winlk normallik testimizi uygulayıp bakalım;"
   ]
  },
  {
   "cell_type": "code",
   "execution_count": 44,
   "metadata": {},
   "outputs": [
    {
     "name": "stdout",
     "output_type": "stream",
     "text": [
      "TTest = 0.9418, p-değeri = 0.0000010\n",
      "TTest = 0.9612, p-değeri = 0.0000127\n"
     ]
    }
   ],
   "source": [
    "from scipy.stats import shapiro\n",
    "test_ista, pvaluea=shapiro(df[df.discipline==\"A\"].salary)\n",
    "print('TTest = %.4f, p-değeri = %.7f' % (test_ista, pvaluea))\n",
    "test_ist_B, pvalue_B=shapiro(df[df.discipline==\"B\"].salary)\n",
    "print('TTest = %.4f, p-değeri = %.7f' % (test_ist_B, pvalue_B))"
   ]
  },
  {
   "cell_type": "markdown",
   "metadata": {},
   "source": [
    "**Karar:** p değeri α= 0.05(genel oalrak kabul gören hata oranı) değerinden küçük olması sebebiyle yokluk hipotezi(H0) reddedilir.\n",
    "\n",
    "**Yorum:** H0 yokluk hipotezi reddedildiği için, verilerin normal dağılıma sahip olmadığını söyleriz. Bu durumda nan-Prametrik hipotez testi yapmalıyız."
   ]
  },
  {
   "cell_type": "markdown",
   "metadata": {},
   "source": [
    "**2- Varyansların homojenliği varsayımı**\n",
    "\n",
    "**H0:** Varyanslar eşittir. Varyansalr arasında bir fark yoktur.\n",
    "\n",
    "**H1:** Varyanslar eşit değildir"
   ]
  },
  {
   "cell_type": "code",
   "execution_count": 60,
   "metadata": {},
   "outputs": [
    {
     "data": {
      "text/plain": [
       "LeveneResult(statistic=0.04584598611596387, pvalue=0.8305664927796936)"
      ]
     },
     "execution_count": 60,
     "metadata": {},
     "output_type": "execute_result"
    }
   ],
   "source": [
    "import scipy.stats as stats\n",
    "stats.levene(df[df.discipline==\"A\"].salary,df[df.discipline==\"B\"].salary )"
   ]
  },
  {
   "cell_type": "markdown",
   "metadata": {},
   "source": [
    "**Karar:** p değeri α= 0.05(genel oalrak kabul gören hata oranı) değerinden büyük olması sebebiyle yokluk(varysanslar arasında bir fark yoktur) hipotezi(H0) reddedilemez.\n",
    "\n",
    "**Yorum:** H0 yokluk hipotezi reddedilemediği için, verilerin eşit varyansa sahip olduğunu söyleriz. \n",
    "\n",
    "Yani varyans homojenliği varsayımımız sağlanıyor. Yine de normallik varsayımımız sağlanmadığından nan-parametrik hipotez testimizi yapacağız."
   ]
  },
  {
   "cell_type": "markdown",
   "metadata": {},
   "source": [
    "### Şimdi nan-parametrik hipotez testimizi gerçekleştirelim. "
   ]
  },
  {
   "cell_type": "markdown",
   "metadata": {},
   "source": [
    "**2- Varyansların homojenliği varsayımı**\n",
    "\n",
    "**H0:** İki kategorik değiskenlerin kazancları(salary) arasında anlamlı bir fark yoktur.\n",
    "\n",
    "**H1:** İki kategorik değiskenlerin kazancları(salary) arasında anlamlı bir fark vardır."
   ]
  },
  {
   "cell_type": "code",
   "execution_count": 67,
   "metadata": {},
   "outputs": [
    {
     "data": {
      "text/plain": [
       "MannwhitneyuResult(statistic=15710.0, pvalue=0.00037581275662523084)"
      ]
     },
     "execution_count": 67,
     "metadata": {},
     "output_type": "execute_result"
    }
   ],
   "source": [
    "stats.mannwhitneyu(df[df.discipline==\"A\"].salary,df[df.discipline==\"B\"].salary)"
   ]
  },
  {
   "cell_type": "markdown",
   "metadata": {},
   "source": [
    "**Karar:** p değeri α= 0.05(genel oalrak kabul gören hata oranı) değerinden küçük olması sebebiyle yokluk(salaryler arasında anlamlı bir fark yoktur) hipotezi(H0) reddedilir.\n",
    "\n",
    "**Yorum:** H0 yokluk hipotezi reddedildiği için, iki kazanç(salary) arasında anlamlı bir fark olduğu yorumunu yapabiliriz.\n",
    "\n",
    "## ---Discipline-A ve Discipline-B arasında Salarys açısından anlamlı bir fark vardır ve bu fark discipline-B lehinedir.---"
   ]
  },
  {
   "cell_type": "code",
   "execution_count": null,
   "metadata": {},
   "outputs": [],
   "source": []
  }
 ],
 "metadata": {
  "kernelspec": {
   "display_name": "Python 3",
   "language": "python",
   "name": "python3"
  },
  "language_info": {
   "codemirror_mode": {
    "name": "ipython",
    "version": 3
   },
   "file_extension": ".py",
   "mimetype": "text/x-python",
   "name": "python",
   "nbconvert_exporter": "python",
   "pygments_lexer": "ipython3",
   "version": "3.7.6"
  }
 },
 "nbformat": 4,
 "nbformat_minor": 4
}
